{
 "cells": [
  {
   "cell_type": "markdown",
   "metadata": {},
   "source": [
    "Plane regular waves - Nonlinear waves using Fourier series\n",
    "====================================================\n",
    "\n",
    "Nonlinear waves typically deviate from the sinusoidal shape when they start \"feeling\" the presence of the sea bed. Using the MonochromaticWave class, we can set the waveType to \"Fenton\" to generate nonlinear waves. The method used can be found in Fenton (1988) http://johndfenton.com/Papers/Fenton88-The-numerical-solution-of-steady-water-wave-problems.pdf\n",
    "\n",
    "Free-surface elevation equation:\n",
    "\n",
    "$$\n",
    "\\eta(\\vec{x},z,t)=\\Sigma_1^N a_i \\cos i(\\vec{k}\\cdot\\vec{x}-\\omega t +\\phi) \n",
    "$$\n",
    "\n",
    "Equation of velocity along the wave propagation direction:\n",
    "\n",
    "$$\n",
    "U_h(\\vec{x},z,t)=\\Sigma_1^N u_{h(i)} \\cos i(\\vec{k}\\cdot\\vec{x}-\\omega t +\\phi)\\cosh i(k(d+z))\n",
    "$$\n",
    "\n",
    "Equation of velocity along the gravity direction:\n",
    "\n",
    "$$\n",
    "U_v(\\vec{x},z,t)=\\Sigma_1^N  u_{v(i)} \\sin i(\\vec{k}\\cdot\\vec{x}-\\omega t +\\phi)\\sinh i(k(d+z))\n",
    "$$\n",
    "\n",
    "Fourier series coefficients $a_i$, $u_{h(i)}$ and $u_{h(i)}$ are calculated using the tool available in http://johndfenton.com/Steady-waves/Fourier.zip. This tool also be used to calculate the solution of a wave(linear and nonliner) interacting with a current. \n",
    "\n",
    "\n"
   ]
  },
  {
   "cell_type": "markdown",
   "metadata": {},
   "source": [
    "`MonochromaticWaves` Class for nonlinear waves \n",
    "======================================================"
   ]
  },
  {
   "cell_type": "code",
   "execution_count": 1,
   "metadata": {},
   "outputs": [],
   "source": [
    "%matplotlib inline\n",
    "from matplotlib import pyplot as plt\n",
    "import numpy as np\n",
    "import sys"
   ]
  },
  {
   "cell_type": "markdown",
   "metadata": {},
   "source": [
    "\n",
    "To load WaveTools from proteus source files, without compiling:\n"
   ]
  },
  {
   "cell_type": "code",
   "execution_count": 2,
   "metadata": {},
   "outputs": [],
   "source": [
    "sys.path.append(\"C:/Users/present/Desktop/proteus/\")\n",
    "#The notebook will work with the following commit:\n",
    "#https://github.com/erdc-cm/proteus/commit/9bb34b3563b5ddab6cb1dd9f75173da2710d2a41\n",
    "from proteus import Profiling,SpatialTools\n",
    "#import imp\n",
    "#WT = imp.load_source('WaveTools', 'WaveTools.pyx')"
   ]
  },
  {
   "cell_type": "markdown",
   "metadata": {},
   "source": [
    "\n",
    "To load WaveTools if proteus is installed\n"
   ]
  },
  {
   "cell_type": "code",
   "execution_count": 3,
   "metadata": {},
   "outputs": [],
   "source": [
    "from proteus import WaveTools as WT"
   ]
  },
  {
   "cell_type": "markdown",
   "metadata": {},
   "source": [
    "Setting up wave parameters and calling the class\n",
    "=========================================\n",
    "\n",
    "A brief description of the arguments is given in the source code. WaveTools does some basic checks and logs error messages if inconsistencies are found among the parameters"
   ]
  },
  {
   "cell_type": "code",
   "execution_count": 4,
   "metadata": {},
   "outputs": [],
   "source": [
    "waveType =\"Fenton\" \n",
    "period = 12.\n",
    "waveHeight = 1.\n",
    "mwl = 0.\n",
    "depth = 5.\n",
    "g = np.array([0., 0., -9.81])\n",
    "waveDir = np.array([2., 2., 0.])\n",
    "norm = WT.setDirVector(waveDir)\n",
    "normVert = WT.setVertDir(g)\n",
    "meanVelocity = np.array([0., 0., 0.])\n",
    "phi0 = 0."
   ]
  },
  {
   "cell_type": "markdown",
   "metadata": {},
   "source": [
    "\n",
    "Apart from the typical wave parameters, in this case we have to define the wavelenght (linear dispersion may not be accurate) and the Fourier series coefficient. To do this, we need to run this tool http://johndfenton.com/Steady-waves/Fourier.zip. Instructions on the tools output are given in http://johndfenton.com/Steady-waves/Instructions.pdf\n"
   ]
  },
  {
   "cell_type": "code",
   "execution_count": 5,
   "metadata": {},
   "outputs": [],
   "source": [
    "Fenton_kH = 0.0741\n",
    "Ycoeff = np.array([3.13E-02,1.39E-02,5.05E-03,1.73E-03,5.88E-04,2.05E-04,8.01E-05,5.09E-05])\n",
    "Bcoeff = np.array([5.18E-02,1.17E-02,2.80E-03,6.56E-04,1.43E-04,2.74E-05,3.98E-06,2.63E-07])\n",
    "ki =Fenton_kH /waveHeight\n",
    "wavelength = 2*np.pi/ki"
   ]
  },
  {
   "cell_type": "code",
   "execution_count": 6,
   "metadata": {},
   "outputs": [
    {
     "ename": "TypeError",
     "evalue": "Cannot convert float to numpy.ndarray",
     "output_type": "error",
     "traceback": [
      "\u001b[0;31m---------------------------------------------------------------------------\u001b[0m",
      "\u001b[0;31mTypeError\u001b[0m                                 Traceback (most recent call last)",
      "\u001b[0;32m<ipython-input-6-78518a38baee>\u001b[0m in \u001b[0;36m<module>\u001b[0;34m\u001b[0m\n\u001b[1;32m     11\u001b[0m                         \u001b[0mBcoeff\u001b[0m\u001b[0;34m,\u001b[0m\u001b[0;34m\u001b[0m\u001b[0;34m\u001b[0m\u001b[0m\n\u001b[1;32m     12\u001b[0m                         \u001b[0mmeanVelocity\u001b[0m\u001b[0;34m,\u001b[0m\u001b[0;34m\u001b[0m\u001b[0;34m\u001b[0m\u001b[0m\n\u001b[0;32m---> 13\u001b[0;31m                         \u001b[0mphi0\u001b[0m\u001b[0;34m\u001b[0m\u001b[0;34m\u001b[0m\u001b[0m\n\u001b[0m\u001b[1;32m     14\u001b[0m                         )\n",
      "\u001b[0;32m~/proteus/proteus/WaveTools.cpython-37-x86_64-linux-gnu.so\u001b[0m in \u001b[0;36mWaveTools.MonochromaticWaves.__init__\u001b[0;34m()\u001b[0m\n",
      "\u001b[0;31mTypeError\u001b[0m: Cannot convert float to numpy.ndarray"
     ]
    }
   ],
   "source": [
    "#Calling the class\n",
    "FW = WT.MonochromaticWaves(period,\n",
    "                        waveHeight,\n",
    "                        mwl,\n",
    "                        depth,\n",
    "                        g,\n",
    "                        waveDir,\n",
    "                        wavelength,\n",
    "                        waveType,\n",
    "                        Ycoeff,\n",
    "                        Bcoeff,\n",
    "                        meanVelocity,\n",
    "                        phi0\n",
    "                        )"
   ]
  },
  {
   "cell_type": "markdown",
   "metadata": {},
   "source": [
    "We use class functions `eta` and `u` for calculating free-surface elevation (as a scalar) and velocity (as a vector).  "
   ]
  },
  {
   "cell_type": "markdown",
   "metadata": {},
   "source": [
    "Calculating and plotting waves\n",
    "=============================================================\n",
    "\n",
    "Setting up the 3D domain"
   ]
  },
  {
   "cell_type": "code",
   "execution_count": null,
   "metadata": {},
   "outputs": [],
   "source": [
    "#Setting up the plan view area and the depth domain\n",
    "n=151\n",
    "xi = np.linspace(0, 200, n)\n",
    "yi = np.linspace(0, 200, n)\n",
    "zi = np.linspace(mwl-depth, mwl+waveHeight, n)"
   ]
  },
  {
   "cell_type": "markdown",
   "metadata": {},
   "source": [
    "We can calculate a time series of the free-surface elevation using the `eta`  function and looping over time for a fixed point in space"
   ]
  },
  {
   "cell_type": "code",
   "execution_count": null,
   "metadata": {},
   "outputs": [],
   "source": [
    "psize = 20\n",
    "#Setting up a time interval of n periods (using npoints sampling points per period)\n",
    "nperiod = 4\n",
    "npoints = 40\n",
    "nn = npoints * nperiod\n",
    "tnlist=np.linspace(0,nperiod*period,nn)\n",
    "eta_t = np.zeros(len(tnlist),)\n",
    "x = [2,1,1]\n",
    "#Calculating time series\n",
    "for i in range(len(tnlist)):\n",
    "    t = tnlist[i]\n",
    "    eta_t[i] = FW.eta(x, t)"
   ]
  },
  {
   "cell_type": "markdown",
   "metadata": {},
   "source": [
    "Plotting the timeseries"
   ]
  },
  {
   "cell_type": "code",
   "execution_count": null,
   "metadata": {},
   "outputs": [],
   "source": [
    "#Plotting time series\n",
    "plt.figure(2, figsize=(10,6), dpi=100)\n",
    "plt.xlim(0., nperiod*period)\n",
    "plt.plot(tnlist, eta_t, \"k-\")\n",
    "plt.xlabel(\"Time (s)\", size=psize)\n",
    "plt.ylabel(\"$\\eta$ (m)\", size=psize)\n",
    "plt.grid()\n",
    "plt.show()"
   ]
  },
  {
   "cell_type": "markdown",
   "metadata": {},
   "source": [
    "We can also plot the free-surface at the x-y plane (wave propagation plane) using a contour plot"
   ]
  },
  {
   "cell_type": "code",
   "execution_count": null,
   "metadata": {},
   "outputs": [],
   "source": [
    "eta_t = np.zeros((n, n),)\n",
    "for i in range(len(xi)):\n",
    "    for j in range(len(yi)):\n",
    "        x = [xi[i], yi[j], 0]\n",
    "        eta_t[i,j] = FW.eta(x, 0.)\n",
    "\n",
    "        \n",
    "#Plotting the contour        \n",
    "plt.figure(1, figsize=(10, 6), dpi=100)\n",
    "X,Y = np.meshgrid(xi,yi)\n",
    "CS = plt.contourf(Y,X,eta_t, 16, alpha=0.8)\n",
    "plt.xlabel(\"x (m)\", size=psize)\n",
    "plt.ylabel(\"y (m)\", size=psize)\n",
    "CB = plt.colorbar(CS, shrink=0.8, extend='both')\n",
    "CB.set_label(\"$\\eta$ (m)\", size = psize)\n",
    "plt.show()"
   ]
  },
  {
   "cell_type": "markdown",
   "metadata": {},
   "source": [
    "\n",
    "In the next cell we plot contours, showing horizontal and vertical velocity profiles at a vertical plane, aligned with the wave propagation direction \n"
   ]
  },
  {
   "cell_type": "code",
   "execution_count": null,
   "metadata": {},
   "outputs": [],
   "source": [
    "#Calculating velocity contours\n",
    "ur  = np.zeros((len(xi),len(zi)),)\n",
    "uv  = np.zeros((len(xi),len(zi)),)\n",
    "for i in range(len(xi)):\n",
    "    for ii in range(len(zi)):\n",
    "        x = xi[i]*norm + [0,0,zi[ii]]\n",
    "        ur[i,ii] = sum(FW.u(x, 0.)[:]*norm[:])\n",
    "        uv[i,ii] = sum(FW.u(x, 0.)[:]*normVert[:])  \n",
    "        if zi[ii]>  FW.eta(x,0.):\n",
    "            ur[i,ii] = np.nan\n",
    "            uv[i,ii] = np.nan\n",
    "    \n",
    "#Plotting velocity contours\n",
    "plt.figure(3,figsize=(10, 6), dpi=100)\n",
    "X,Y = np.meshgrid(zi,yi)\n",
    "CS = plt.contourf(Y,X,ur, 16, alpha=0.8, cmap='jet')\n",
    "plt.xlabel(\"x (m)\", size=psize)\n",
    "plt.ylabel(\"z (m)\", size=psize)\n",
    "CB = plt.colorbar(CS, shrink=0.8, extend='both')\n",
    "CB.set_label(\"Uplane (m/s)\", size = psize)\n",
    "plt.show()\n",
    "\n",
    "plt.figure(4,figsize=(10, 6), dpi=100)\n",
    "X,Y = np.meshgrid(zi,yi)\n",
    "CS = plt.contourf(Y,X,uv, 16, alpha=0.8, cmap='jet')\n",
    "plt.xlabel(\"x (m)\", size=psize)\n",
    "plt.ylabel(\"z (m)\", size=psize)\n",
    "CB = plt.colorbar(CS, shrink=0.8, extend='both')\n",
    "CB.set_label(\"Uvert (m/s)\", size = psize)\n",
    "plt.show()"
   ]
  },
  {
   "cell_type": "markdown",
   "metadata": {},
   "source": [
    "\n",
    "In the cell below, we load the class another two times, introducing following and opposing currents. We plot the free surface profile in space in order to demonstrate the doppler effect\n"
   ]
  },
  {
   "cell_type": "code",
   "execution_count": null,
   "metadata": {
    "scrolled": false
   },
   "outputs": [],
   "source": [
    "meanVelocity = norm\n",
    "\n",
    "Fenton_kH = 0.0365\n",
    "Ycoeff = np.array([9.95E-03,7.65E-03,5.24E-03,3.35E-03,2.10E-03,1.34E-03,9.44E-04,7.85E-04])\n",
    "Bcoeff = np.array([2.29E-02,8.85E-03,4.07E-03,1.95E-03,9.64E-04,4.97E-04,2.84E-04,1.00E-04])\n",
    "\n",
    "ki =Fenton_kH /waveHeight\n",
    "wavelength = 2*np.pi/ki\n",
    "\n",
    "\n",
    "FWfoll = WT.MonochromaticWaves(period,\n",
    "                        waveHeight,\n",
    "                        mwl,\n",
    "                        depth,\n",
    "                        g,\n",
    "                        waveDir,\n",
    "                        wavelength,\n",
    "                        waveType,\n",
    "                        Ycoeff,\n",
    "                        Bcoeff,\n",
    "                        meanVelocity,\n",
    "                        phi0\n",
    "                        )\n",
    "#Following current\n",
    "#To calculate these coefficients use http://johndfenton.com/Steady-waves/Fourier.html\n",
    "meanVelocity = -0.5*norm\n",
    "\n",
    "\n",
    "Fenton_kH = 0.1907\n",
    "Ycoeff = np.array([9.34E-02,1.32E-02,1.92E-03,3.14E-04,5.66E-05,1.09E-05,2.27E-06,8.97E-07])\n",
    "Bcoeff = np.array([1.08E-01,6.53E-03,2.18E-04,-8.25E-06,-1.27E-06,-2.22E-09,9.51E-09,5.73E-10])\n",
    "\n",
    "ki =Fenton_kH /waveHeight\n",
    "wavelength = 2*np.pi/ki\n",
    "\n",
    "FWopp = WT.MonochromaticWaves(period,\n",
    "                        waveHeight,\n",
    "                        mwl,\n",
    "                        depth,\n",
    "                        g,\n",
    "                        waveDir,\n",
    "                        wavelength,\n",
    "                        waveType,\n",
    "                        Ycoeff,\n",
    "                        Bcoeff,\n",
    "                        meanVelocity,\n",
    "                        phi0\n",
    "                        )\n",
    "\n",
    "#Calculating velocity contours\n",
    "norm = WT.setDirVector(waveDir)\n",
    "eta_t  = np.zeros((len(xi),3,))\n",
    "for i in range(len(xi)):\n",
    "    x = xi[i]*norm\n",
    "    eta_t[i,0] = FW.eta(x,0.)\n",
    "    eta_t[i,1] = FWfoll.eta(x,0.)    \n",
    "    eta_t[i,2] = FWopp.eta(x,0.)      \n",
    "\n",
    "#Plotting time series\n",
    "plt.figure(2, figsize=(10,6), dpi=100)\n",
    "plt.plot( xi, eta_t[:,0], color=\"black\",label=\"UUcurrent=0\")\n",
    "plt.plot( xi, eta_t[:,1], color=\"blue\",label=\"Ucurrent=1.0m/s\")\n",
    "plt.plot( xi, eta_t[:,2], color=\"red\",label=\"Ucurrent= -0.5m/s\")\n",
    "plt.legend(loc=\"upper center\",ncol=3)\n",
    "plt.xlabel(\"x (m)\", size=psize)\n",
    "plt.ylabel(\"$\\eta$ (m)\", size=psize)\n",
    "plt.grid()\n",
    "plt.show()"
   ]
  },
  {
   "cell_type": "code",
   "execution_count": null,
   "metadata": {},
   "outputs": [],
   "source": [
    "\n",
    "\n"
   ]
  },
  {
   "cell_type": "code",
   "execution_count": null,
   "metadata": {},
   "outputs": [],
   "source": []
  },
  {
   "cell_type": "code",
   "execution_count": null,
   "metadata": {},
   "outputs": [],
   "source": []
  },
  {
   "cell_type": "code",
   "execution_count": null,
   "metadata": {},
   "outputs": [],
   "source": []
  }
 ],
 "metadata": {
  "kernelspec": {
   "display_name": "Python 3",
   "language": "python",
   "name": "python3"
  },
  "language_info": {
   "codemirror_mode": {
    "name": "ipython",
    "version": 3
   },
   "file_extension": ".py",
   "mimetype": "text/x-python",
   "name": "python",
   "nbconvert_exporter": "python",
   "pygments_lexer": "ipython3",
   "version": "3.7.2"
  }
 },
 "nbformat": 4,
 "nbformat_minor": 1
}
